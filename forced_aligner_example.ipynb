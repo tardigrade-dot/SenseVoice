{
 "cells": [
  {
   "cell_type": "code",
   "execution_count": null,
   "id": "ce96f49c",
   "metadata": {},
   "outputs": [],
   "source": [
    "!git clone https://github.com/tardigrade-dot/SenseVoice\n"
   ]
  },
  {
   "cell_type": "code",
   "execution_count": null,
   "id": "42997977",
   "metadata": {},
   "outputs": [],
   "source": [
    "import os\n",
    "os.chdir('SenseVoice')"
   ]
  },
  {
   "cell_type": "code",
   "execution_count": null,
   "id": "849e1eed",
   "metadata": {},
   "outputs": [],
   "source": [
    "%pip install -r requirements.txt"
   ]
  },
  {
   "cell_type": "code",
   "execution_count": null,
   "id": "503bf047",
   "metadata": {},
   "outputs": [],
   "source": [
    "device = \"mps\" # cuda cpu"
   ]
  },
  {
   "cell_type": "code",
   "execution_count": null,
   "id": "6792d4e5",
   "metadata": {},
   "outputs": [],
   "source": [
    "#下载模型\n",
    "from modelscope import snapshot_download\n",
    "snapshot_download('FunAudioLLM/SenseVoiceSmall', local_dir='pretrained_models/SenseVoiceSmall')"
   ]
  },
  {
   "cell_type": "code",
   "execution_count": null,
   "id": "31ad1a0a",
   "metadata": {},
   "outputs": [],
   "source": [
    "from funasr import AutoModel\n",
    "from funasr.utils.postprocess_utils import rich_transcription_postprocess\n",
    "\n",
    "model_dir = \"pretrained_models/SenseVoiceSmall\"\n",
    "\n",
    "src_file = 'data-forcedaligner/data.wav'\n",
    "\n",
    "model = AutoModel(\n",
    "    model=model_dir,\n",
    "    # vad_model=\"fsmn-vad\",\n",
    "    # vad_kwargs={\"max_single_segment_time\": 30_000},\n",
    "    device=device,\n",
    "    # hub=\"hf\",\n",
    "    disable_update=True,\n",
    ")\n",
    "res = model.generate(\n",
    "        input=src_file,\n",
    "        cache={},\n",
    "        language=\"auto\",  # \"zn\", \"en\", \"yue\", \"ja\", \"ko\", \"nospeech\"\n",
    "        use_itn=True,\n",
    "        batch_size_s=30,\n",
    "        # output_timestamp=True,\n",
    "        merge_vad=True,\n",
    "        # ban_emo_unk=True,\n",
    "        merge_length_s=20,\n",
    "    )\n",
    "text = res[0][\"text\"]\n",
    "print(text)\n",
    "#文本输出预期为:政府对各地的请愿一概不予理睬，议会以种种理由退回请愿书，借口大多是请愿书文具粗陋，符合议会体力。政府的这种态度自然为更激烈的激进派别提供了活动的土壤。\n",
    "#修正为文本:政府对各地的请愿一概不予理睬，议会以种种理由退回请愿书，借口大多是请愿书文具粗陋，不合议会体例。政府的这种态度自然为更激烈的激进派别提供了活动的土壤。\n",
    "#并在下一个步骤使用到修正的文本来对齐"
   ]
  },
  {
   "cell_type": "code",
   "execution_count": null,
   "id": "50a80e0c",
   "metadata": {},
   "outputs": [],
   "source": [
    "import re\n",
    "import os\n",
    "import sys\n",
    "from funasr import AutoModel\n",
    "from funasr.utils.postprocess_utils import rich_transcription_postprocess\n",
    "\n",
    "model_dir = \"pretrained_models/SenseVoiceSmall\"\n",
    "\n",
    "src_file = 'data-forcedaligner/data.wav'\n",
    "target_txt = \"政府对各地的请愿一概不予理睬，议会以种种理由退回请愿书，借口大多是请愿书文具粗陋，不合议会体例。政府的这种态度自然为更激烈的激进派别提供了活动的土壤。\"\n",
    "model = AutoModel(\n",
    "    model=model_dir,\n",
    "    # vad_model=\"fsmn-vad\",\n",
    "    # vad_kwargs={\"max_single_segment_time\": 30_000},\n",
    "    device=device,\n",
    "    # hub=\"hf\",\n",
    "    disable_update=True,\n",
    "    trust_remote_code=True,\n",
    "    remote_code=\"./model2.py\",\n",
    ")\n",
    "res = model.generate(\n",
    "        input=src_file,\n",
    "        cache={},\n",
    "        language=\"auto\",  # \"zn\", \"en\", \"yue\", \"ja\", \"ko\", \"nospeech\"\n",
    "        use_itn=True,\n",
    "        batch_size_s=30,\n",
    "        # output_timestamp=True,\n",
    "        merge_vad=True,\n",
    "        # ban_emo_unk=True,\n",
    "        merge_length_s=20,\n",
    "        output_timestamp=True,\n",
    "        target_txt=target_txt,\n",
    "    )\n",
    "text = res[0]\n",
    "print(text[\"words\"])\n",
    "print(text[\"timestamp\"])"
   ]
  }
 ],
 "metadata": {
  "kernelspec": {
   "display_name": "sv311",
   "language": "python",
   "name": "python3"
  },
  "language_info": {
   "codemirror_mode": {
    "name": "ipython",
    "version": 3
   },
   "file_extension": ".py",
   "mimetype": "text/x-python",
   "name": "python",
   "nbconvert_exporter": "python",
   "pygments_lexer": "ipython3",
   "version": "3.11.13"
  }
 },
 "nbformat": 4,
 "nbformat_minor": 5
}
